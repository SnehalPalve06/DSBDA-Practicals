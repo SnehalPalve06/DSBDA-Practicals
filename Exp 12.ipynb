{
 "cells": [
  {
   "cell_type": "code",
   "execution_count": 2,
   "id": "1b0ba8ac",
   "metadata": {},
   "outputs": [],
   "source": [
    "## Operation with missing value \n",
    "import pandas as pd \n",
    "import numpy as np"
   ]
  },
  {
   "cell_type": "code",
   "execution_count": 6,
   "id": "6c29fd43",
   "metadata": {},
   "outputs": [
    {
     "name": "stdout",
     "output_type": "stream",
     "text": [
      "   ID    Name    Role  Salary\n",
      "0   1  Pankaj  Editor   10000\n",
      "1   2    Lisa  Editor    8000\n",
      "2   3   David  Author    6000\n",
      "3   4     Ram  Author    4000\n",
      "4   5  Anupam  Author    5000\n"
     ]
    }
   ],
   "source": [
    "#importing the dataset \n",
    "df = pd.read_csv(\"C:/Users/91801/Downloads/records.csv\") \n",
    "df.head() \n",
    "print(df)"
   ]
  },
  {
   "cell_type": "code",
   "execution_count": 13,
   "id": "12b62365",
   "metadata": {},
   "outputs": [
    {
     "name": "stdout",
     "output_type": "stream",
     "text": [
      "<class 'pandas.core.frame.DataFrame'>\n",
      "RangeIndex: 5 entries, 0 to 4\n",
      "Data columns (total 5 columns):\n",
      " #   Column           Non-Null Count  Dtype \n",
      "---  ------           --------------  ----- \n",
      " 0   ID               5 non-null      int64 \n",
      " 1   Name             5 non-null      object\n",
      " 2   Role             5 non-null      object\n",
      " 3   Salary           5 non-null      int64 \n",
      " 4   Salaryismissing  5 non-null      bool  \n",
      "dtypes: bool(1), int64(2), object(2)\n",
      "memory usage: 293.0+ bytes\n"
     ]
    }
   ],
   "source": [
    "#Missing values are usually represented in the form of Nan or null or None in the dataset. \n",
    "df.info()"
   ]
  },
  {
   "cell_type": "code",
   "execution_count": 14,
   "id": "b317c0cc",
   "metadata": {},
   "outputs": [
    {
     "name": "stdout",
     "output_type": "stream",
     "text": [
      "   ID    Name    Role  Salary  Salaryismissing\n",
      "0   1  Pankaj  Editor   10000            False\n",
      "1   2    Lisa  Editor    8000            False\n",
      "2   3   David  Author    6000            False\n",
      "3   4     Ram  Author    4000            False\n",
      "4   5  Anupam  Author    5000            False\n",
      "<class 'pandas.core.frame.DataFrame'>\n",
      "RangeIndex: 5 entries, 0 to 4\n",
      "Data columns (total 5 columns):\n",
      " #   Column           Non-Null Count  Dtype \n",
      "---  ------           --------------  ----- \n",
      " 0   ID               5 non-null      int64 \n",
      " 1   Name             5 non-null      object\n",
      " 2   Role             5 non-null      object\n",
      " 3   Salary           5 non-null      int64 \n",
      " 4   Salaryismissing  5 non-null      bool  \n",
      "dtypes: bool(1), int64(2), object(2)\n",
      "memory usage: 293.0+ bytes\n"
     ]
    }
   ],
   "source": [
    "#1. Deleting the column with missing data \n",
    "updated_df = df.dropna(axis=1) \n",
    "print(updated_df) \n",
    "updated_df.info() "
   ]
  },
  {
   "cell_type": "code",
   "execution_count": 15,
   "id": "b7c76ea0",
   "metadata": {},
   "outputs": [
    {
     "name": "stdout",
     "output_type": "stream",
     "text": [
      "   ID    Name    Role  Salary  Salaryismissing\n",
      "0   1  Pankaj  Editor   10000            False\n",
      "1   2    Lisa  Editor    8000            False\n",
      "2   3   David  Author    6000            False\n",
      "3   4     Ram  Author    4000            False\n",
      "4   5  Anupam  Author    5000            False\n",
      "<class 'pandas.core.frame.DataFrame'>\n",
      "RangeIndex: 5 entries, 0 to 4\n",
      "Data columns (total 5 columns):\n",
      " #   Column           Non-Null Count  Dtype \n",
      "---  ------           --------------  ----- \n",
      " 0   ID               5 non-null      int64 \n",
      " 1   Name             5 non-null      object\n",
      " 2   Role             5 non-null      object\n",
      " 3   Salary           5 non-null      int64 \n",
      " 4   Salaryismissing  5 non-null      bool  \n",
      "dtypes: bool(1), int64(2), object(2)\n",
      "memory usage: 293.0+ bytes\n"
     ]
    }
   ],
   "source": [
    "#2. Deleting the row with missing data \n",
    "updated_df = df.dropna(axis=0) \n",
    "print(updated_df) \n",
    "updated_df.info()"
   ]
  },
  {
   "cell_type": "code",
   "execution_count": 16,
   "id": "963941b2",
   "metadata": {},
   "outputs": [
    {
     "name": "stdout",
     "output_type": "stream",
     "text": [
      "   ID    Name    Role  Salary  Salaryismissing\n",
      "0   1  Pankaj  Editor   10000            False\n",
      "1   2    Lisa  Editor    8000            False\n",
      "2   3   David  Author    6000            False\n",
      "3   4     Ram  Author    4000            False\n",
      "4   5  Anupam  Author    5000            False\n"
     ]
    }
   ],
   "source": [
    "#3. Filling the Missing Values – Imputation \n",
    "updated_df = df \n",
    "updated_df['Salary']=updated_df['Salary'].fillna(updated_df['Salary'].mean()) \n",
    "print(updated_df) "
   ]
  },
  {
   "cell_type": "code",
   "execution_count": 17,
   "id": "c8afdba8",
   "metadata": {},
   "outputs": [
    {
     "name": "stdout",
     "output_type": "stream",
     "text": [
      "   ID    Name    Role  Salary  Salaryismissing\n",
      "0   1  Pankaj  Editor   10000            False\n",
      "1   2    Lisa  Editor    8000            False\n",
      "2   3   David  Author    6000            False\n",
      "3   4     Ram  Author    4000            False\n",
      "4   5  Anupam  Author    5000            False\n"
     ]
    }
   ],
   "source": [
    "#4. Imputation with an additional column \n",
    "updated_df = df \n",
    "updated_df['Salaryismissing'] = updated_df['Salary'].isnull() \n",
    "print(updated_df) "
   ]
  },
  {
   "cell_type": "code",
   "execution_count": 12,
   "id": "9f789328",
   "metadata": {},
   "outputs": [
    {
     "name": "stdout",
     "output_type": "stream",
     "text": [
      "   ID    Name    Role  Salaryismissing\n",
      "0   1  Pankaj  Editor            False\n",
      "1   2    Lisa  Editor            False\n",
      "2   3   David  Author            False\n",
      "3   4     Ram  Author            False\n",
      "4   5  Anupam  Author            False\n"
     ]
    },
    {
     "name": "stderr",
     "output_type": "stream",
     "text": [
      "C:\\Users\\91801\\AppData\\Local\\Temp\\ipykernel_9800\\503438105.py:5: SettingWithCopyWarning: \n",
      "A value is trying to be set on a copy of a slice from a DataFrame\n",
      "\n",
      "See the caveats in the documentation: https://pandas.pydata.org/pandas-docs/stable/user_guide/indexing.html#returning-a-view-versus-a-copy\n",
      "  testdf.drop(\"Salary\",axis=1,inplace=True)\n"
     ]
    }
   ],
   "source": [
    "#5. Filling with a Regression Model \n",
    "testdf = df[df['Salary'].isnull()==True] \n",
    "traindf = df[df['Salary'].isnull()==False] \n",
    "traindf.drop(\"Salary\",axis=1,inplace=True) \n",
    "testdf.drop(\"Salary\",axis=1,inplace=True) \n",
    "print(traindf) "
   ]
  },
  {
   "cell_type": "code",
   "execution_count": null,
   "id": "55912287",
   "metadata": {},
   "outputs": [],
   "source": []
  },
  {
   "cell_type": "code",
   "execution_count": null,
   "id": "98227b91",
   "metadata": {},
   "outputs": [],
   "source": []
  }
 ],
 "metadata": {
  "kernelspec": {
   "display_name": "Python 3 (ipykernel)",
   "language": "python",
   "name": "python3"
  },
  "language_info": {
   "codemirror_mode": {
    "name": "ipython",
    "version": 3
   },
   "file_extension": ".py",
   "mimetype": "text/x-python",
   "name": "python",
   "nbconvert_exporter": "python",
   "pygments_lexer": "ipython3",
   "version": "3.9.13"
  }
 },
 "nbformat": 4,
 "nbformat_minor": 5
}
